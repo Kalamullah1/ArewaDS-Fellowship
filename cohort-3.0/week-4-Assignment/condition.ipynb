{
 "cells": [
  {
   "cell_type": "code",
   "execution_count": 1,
   "id": "f3fdcc54-94c8-4b38-911d-c060c7db19a6",
   "metadata": {},
   "outputs": [
    {
     "name": "stdin",
     "output_type": "stream",
     "text": [
      "enter your age here.. 12\n"
     ]
    },
    {
     "name": "stdout",
     "output_type": "stream",
     "text": [
      "wait for 6 years to start driving\n"
     ]
    }
   ],
   "source": [
    "#Question 1 exercise\n",
    "age = int(input(\"enter your age here..\"))\n",
    "\n",
    "if age >= 18:\n",
    "    print(\"you are odl enough to dive\")\n",
    "else:\n",
    "    remaining_age = 18 - age\n",
    "    print(f\"wait for {remaining_age} years to start driving\")\n",
    "\n",
    "            "
   ]
  },
  {
   "cell_type": "code",
   "execution_count": 9,
   "id": "deef299e-74d2-447e-839a-08c5a7e0be38",
   "metadata": {},
   "outputs": [
    {
     "name": "stdin",
     "output_type": "stream",
     "text": [
      "enter your age here.. 26\n"
     ]
    },
    {
     "name": "stdout",
     "output_type": "stream",
     "text": [
      "you are older with 3 years\n"
     ]
    }
   ],
   "source": [
    "#Question 2 \n",
    "my_age = 23\n",
    "your_age = int(input(\"enter your age here..\"))\n",
    "\n",
    "\n",
    "\n",
    "diff = abs(my_age - your_age)\n",
    "\n",
    "if my_age > your_age:\n",
    "    if diff == 1:\n",
    "        yr = \"year\"\n",
    "    else:\n",
    "        yr =\"years\"\n",
    "    print(f\"i am older with {diff} {yr}\")\n",
    "elif your_age > my_age:\n",
    "    if diff == 1:\n",
    "        yr = \"year\"\n",
    "    else:\n",
    "        yr =\"years\"\n",
    "    print(f\"you are older with {diff} {yr}\")\n",
    "\n",
    "else:\n",
    "    print(\"my age equals your age\")\n"
   ]
  },
  {
   "cell_type": "code",
   "execution_count": 13,
   "id": "66a8a7e1-b1af-42ae-8302-4579a8d242c6",
   "metadata": {},
   "outputs": [
    {
     "name": "stdin",
     "output_type": "stream",
     "text": [
      "enter initial number 2\n",
      "enter final number 2\n"
     ]
    },
    {
     "name": "stdout",
     "output_type": "stream",
     "text": [
      " The two numbers are equal\n"
     ]
    }
   ],
   "source": [
    "#Question 3 \n",
    "num_1 = int(input(\"enter initial number\"))\n",
    "num_2 = int(input(\"enter final number\"))\n",
    "\n",
    "if num_1 > num_2 :\n",
    "    print(\" One is greater than Two\")\n",
    "elif num_2 > num_1 :\n",
    "    print(\" Two is greater than One\")\n",
    "else:\n",
    "    print(\" The two numbers are equal\")\n"
   ]
  },
  {
   "cell_type": "markdown",
   "id": "c95321d0-2a16-4d74-bf00-a4e5faec7e6e",
   "metadata": {},
   "source": [
    "                                    Exercises: Level 2    "
   ]
  },
  {
   "cell_type": "code",
   "execution_count": 18,
   "id": "46ca5073-f5ad-456f-a513-374fe9c412b5",
   "metadata": {},
   "outputs": [
    {
     "name": "stdin",
     "output_type": "stream",
     "text": [
      "enter student 51\n"
     ]
    },
    {
     "name": "stdout",
     "output_type": "stream",
     "text": [
      " your grade is D\n"
     ]
    }
   ],
   "source": [
    "#Question 1\n",
    "score = int(input(\"enter student\"))\n",
    "\n",
    "if score > 100 | score < 0 :\n",
    "    print(\"invalid score\")\n",
    "elif score >= 80 :\n",
    "    print(\" your grade is A\")\n",
    "elif score >= 70:\n",
    "    print(\" your grade is B\")\n",
    "elif score >= 60 :\n",
    "    print(\" your grade is C\")\n",
    "elif score >= 50 :\n",
    "    print(\" your grade is D\")\n",
    "else:\n",
    "    print(\" sorry... your grade is F\")"
   ]
  },
  {
   "cell_type": "code",
   "execution_count": 30,
   "id": "004986e7-2b2c-4074-8f76-4602b79c4dce",
   "metadata": {},
   "outputs": [
    {
     "name": "stdin",
     "output_type": "stream",
     "text": [
      "enter month may\n"
     ]
    },
    {
     "name": "stdout",
     "output_type": "stream",
     "text": [
      "The season is spring\n"
     ]
    }
   ],
   "source": [
    "#Question 2\n",
    "season= input(\"enter month\")\n",
    "season.lower()\n",
    "\n",
    "if season == \"september\" or season == \"october\" or season == \"november\" :\n",
    "    print(\"The season is Autumn\")\n",
    "elif season == 'december' or season == \"january\" or season == \"february\":\n",
    "    print(\"The season is winter\")\n",
    "elif season == 'march' or season == \"april\" or season == \"may\"  :\n",
    "    print(\"The season is spring\")\n",
    "elif season == 'june' or season == \"july\" or season == \"august\"  :\n",
    "    print(\"The season is summer\")\n",
    "else: \n",
    "    print('check your spelling')\n"
   ]
  },
  {
   "cell_type": "code",
   "execution_count": 32,
   "id": "0da42134-3894-4790-a708-e1354f51d6ff",
   "metadata": {},
   "outputs": [
    {
     "name": "stdin",
     "output_type": "stream",
     "text": [
      "enter fruit name apple\n"
     ]
    },
    {
     "name": "stdout",
     "output_type": "stream",
     "text": [
      "['banana', 'orange', 'mango', 'lemon', 'apple']\n"
     ]
    }
   ],
   "source": [
    "#Question 3 \n",
    "fruit = input(\"enter fruit name\")\n",
    "fruits = ['banana', 'orange', 'mango', 'lemon']\n",
    "if fruit in fruits:\n",
    "    print(\"fruit already exist\")\n",
    "else:\n",
    "    fruits.append(fruit)\n",
    "    print(fruits)\n",
    "    "
   ]
  },
  {
   "cell_type": "markdown",
   "id": "4174fa97-608f-4343-b08d-97a9688a3c4f",
   "metadata": {},
   "source": [
    "                            Exercises: Level 3"
   ]
  },
  {
   "cell_type": "code",
   "execution_count": 35,
   "id": "0eb1d9f0-fa57-4815-a953-92f27aaa4d5b",
   "metadata": {},
   "outputs": [],
   "source": [
    "person={\n",
    "    'first_name': 'Asabeneh',\n",
    "    'last_name': 'Yetayeh',\n",
    "    'age': 250,\n",
    "    'country': 'Finland',\n",
    "    'is_marred': True,\n",
    "    'skills': ['JavaScript', 'React', 'Node', 'MongoDB', 'Python'],\n",
    "    'address': {\n",
    "        'street': 'Space street',\n",
    "        'zipcode': '02210'\n",
    "    }\n",
    "    }"
   ]
  },
  {
   "cell_type": "code",
   "execution_count": 46,
   "id": "14f51c3c-282d-4ddf-95f3-5d0126170d3b",
   "metadata": {},
   "outputs": [
    {
     "name": "stdout",
     "output_type": "stream",
     "text": [
      "Node\n"
     ]
    }
   ],
   "source": [
    "# bullet 1 \n",
    "check = person.get('skills')\n",
    "if check:\n",
    "    print(person['skills'][2])\n"
   ]
  },
  {
   "cell_type": "code",
   "execution_count": 59,
   "id": "416e7067-495c-4de5-87c6-78f414a5e7f2",
   "metadata": {},
   "outputs": [
    {
     "name": "stdout",
     "output_type": "stream",
     "text": [
      "true\n"
     ]
    }
   ],
   "source": [
    "# bullet 1 \n",
    "if 'Python' in person['skills']:\n",
    "    print('true')\n",
    "else:\n",
    "    print(\"item does not exist\")"
   ]
  },
  {
   "cell_type": "code",
   "execution_count": 60,
   "id": "a2cbf28d-4e0e-4bcf-a33d-2df8cc76de95",
   "metadata": {},
   "outputs": [
    {
     "name": "stdout",
     "output_type": "stream",
     "text": [
      "unknown title\n"
     ]
    }
   ],
   "source": [
    "# bullet 3 \n",
    "if person['skills'] == 'JavaScript' or person['skills'] == 'React':\n",
    "    print('He is a front end developer')\n",
    "elif person['skills'] == 'Node' or person['skills'] == 'Python' or person['skills'] == 'MongoDB' :\n",
    "    print('He is a backend developer')\n",
    "elif person['skills'] == 'Node' or person['skills'] == 'React' or person['skills'] == 'MongoDB' :\n",
    "    print('He is a fullstack developer')\n",
    "else:\n",
    "    print('unknown title')"
   ]
  },
  {
   "cell_type": "code",
   "execution_count": 64,
   "id": "52ddbb85-7b8e-4ef6-8f7a-fbd7e3ce2e38",
   "metadata": {},
   "outputs": [
    {
     "name": "stdout",
     "output_type": "stream",
     "text": [
      "Asabeneh Yetayeh lives in Finland. He is married\n"
     ]
    }
   ],
   "source": [
    "#bullet 3\n",
    "if  person[\"is_marred\"] and person[\"country\"] == \"Finland\" :\n",
    "    print(\"Asabeneh Yetayeh lives in Finland. He is married\")\n",
    "else:\n",
    "    print(\"something is wrong \")"
   ]
  },
  {
   "cell_type": "code",
   "execution_count": null,
   "id": "a392f203-697d-4a8b-9f9f-4338a3dbe927",
   "metadata": {},
   "outputs": [],
   "source": []
  }
 ],
 "metadata": {
  "kernelspec": {
   "display_name": "Python 3 (ipykernel)",
   "language": "python",
   "name": "python3"
  },
  "language_info": {
   "codemirror_mode": {
    "name": "ipython",
    "version": 3
   },
   "file_extension": ".py",
   "mimetype": "text/x-python",
   "name": "python",
   "nbconvert_exporter": "python",
   "pygments_lexer": "ipython3",
   "version": "3.12.7"
  }
 },
 "nbformat": 4,
 "nbformat_minor": 5
}
