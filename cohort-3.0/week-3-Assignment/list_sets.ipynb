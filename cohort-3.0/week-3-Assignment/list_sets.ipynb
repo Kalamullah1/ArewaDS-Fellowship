{
 "cells": [
  {
   "cell_type": "code",
   "execution_count": 1,
   "id": "ba1e74e9-5ee4-44ba-a804-376452692e36",
   "metadata": {},
   "outputs": [
    {
     "name": "stdout",
     "output_type": "stream",
     "text": [
      "('isa', 'abba', 'saleh', 'khadijah', 'ummi', 'amne')\n"
     ]
    }
   ],
   "source": [
    "tup = ()\n",
    "brothers = (\"isa\", \"abba\", \"saleh\")\n",
    "sisters = (\"khadijah\", \"ummi\", \"amne\")\n",
    "siblings = brothers + sisters \n",
    "\n",
    "print (siblings)"
   ]
  },
  {
   "cell_type": "code",
   "execution_count": 3,
   "id": "a199deea-d02e-4cc1-b3f7-3ba277cf4721",
   "metadata": {},
   "outputs": [
    {
     "data": {
      "text/plain": [
       "6"
      ]
     },
     "execution_count": 3,
     "metadata": {},
     "output_type": "execute_result"
    }
   ],
   "source": [
    "len(siblings)\n"
   ]
  },
  {
   "cell_type": "code",
   "execution_count": 4,
   "id": "5a6a2609-765f-44ab-b6d7-3b4f94f2460b",
   "metadata": {},
   "outputs": [
    {
     "name": "stdout",
     "output_type": "stream",
     "text": [
      "('isa', 'abba', 'saleh', 'khadijah', 'ummi', 'amne')\n"
     ]
    }
   ],
   "source": [
    "f_members = siblings[:]\n",
    "print(f_members)"
   ]
  },
  {
   "cell_type": "code",
   "execution_count": 10,
   "id": "fe1c76ff-ba40-4c22-9042-1644af57cdb0",
   "metadata": {},
   "outputs": [
    {
     "data": {
      "text/plain": [
       "('isa', 'abba', 'saleh', 'khadijah', 'ummi', 'amne', 'muhammed', 'hafsah')"
      ]
     },
     "execution_count": 10,
     "metadata": {},
     "output_type": "execute_result"
    }
   ],
   "source": [
    "f_members + (\"muhammed\", \"hafsah\")\n",
    "\n"
   ]
  },
  {
   "cell_type": "markdown",
   "id": "ec994040-a7e1-4e5b-ae88-97e07abc6fb8",
   "metadata": {},
   "source": [
    "Excercise 2"
   ]
  },
  {
   "cell_type": "code",
   "execution_count": 11,
   "id": "9fade8f1-cf24-4736-b1b6-e8178e6ed879",
   "metadata": {},
   "outputs": [],
   "source": [
    "del f_members"
   ]
  },
  {
   "cell_type": "code",
   "execution_count": 14,
   "id": "03e332fc-16ee-4ace-88aa-f76005f0682d",
   "metadata": {},
   "outputs": [],
   "source": [
    "fruits = (\"watermelon\",\"banana\")\n",
    "vegetables = (\"tomato\", \"salad\" )\n",
    "animal_products = (\"chicken\", \"turkey\")\n"
   ]
  },
  {
   "cell_type": "code",
   "execution_count": 17,
   "id": "a2bee513-5aa5-4787-b884-ab5438b1ca78",
   "metadata": {},
   "outputs": [
    {
     "data": {
      "text/plain": [
       "('watermelon', 'banana', 'tomato', 'salad', 'chicken', 'turkey')"
      ]
     },
     "execution_count": 17,
     "metadata": {},
     "output_type": "execute_result"
    }
   ],
   "source": [
    "food_stuffs_tp = fruits + vegetables + animal_products\n",
    "food_stuffs_tp"
   ]
  },
  {
   "cell_type": "code",
   "execution_count": 20,
   "id": "0719b748-1262-4196-a3ee-018bd4b925e2",
   "metadata": {},
   "outputs": [
    {
     "data": {
      "text/plain": [
       "('tomato', 'salad')"
      ]
     },
     "execution_count": 20,
     "metadata": {},
     "output_type": "execute_result"
    }
   ],
   "source": [
    "mid_items = food_stuffs_tp[2:4]\n",
    "mid_items"
   ]
  },
  {
   "cell_type": "code",
   "execution_count": 22,
   "id": "5a9c586d-1c65-439c-b338-f712878778ae",
   "metadata": {},
   "outputs": [
    {
     "data": {
      "text/plain": [
       "('watermelon', 'banana', 'tomato')"
      ]
     },
     "execution_count": 22,
     "metadata": {},
     "output_type": "execute_result"
    }
   ],
   "source": [
    "f_3_items = food_stuffs_tp[:3]\n",
    "f_3_items "
   ]
  },
  {
   "cell_type": "code",
   "execution_count": 23,
   "id": "fa5869ea-5089-4224-bc5e-6dfda1d535b4",
   "metadata": {},
   "outputs": [],
   "source": [
    "del food_stuffs_tp"
   ]
  },
  {
   "cell_type": "code",
   "execution_count": 27,
   "id": "0389b767-8440-41ae-bbe0-2f2f7bade2b3",
   "metadata": {},
   "outputs": [
    {
     "ename": "NameError",
     "evalue": "name 'food_stuffs_tp' is not defined",
     "output_type": "error",
     "traceback": [
      "\u001b[1;31m---------------------------------------------------------------------------\u001b[0m",
      "\u001b[1;31mNameError\u001b[0m                                 Traceback (most recent call last)",
      "Cell \u001b[1;32mIn[27], line 1\u001b[0m\n\u001b[1;32m----> 1\u001b[0m \u001b[38;5;124m\"\u001b[39m\u001b[38;5;124mbanana\u001b[39m\u001b[38;5;124m\"\u001b[39m \u001b[38;5;129;01min\u001b[39;00m food_stuffs_tp\n",
      "\u001b[1;31mNameError\u001b[0m: name 'food_stuffs_tp' is not defined"
     ]
    }
   ],
   "source": [
    "\"banana\" in food_stuffs_tp"
   ]
  },
  {
   "cell_type": "code",
   "execution_count": 28,
   "id": "97e7318a-ad84-4fcd-8ff9-f37a22605286",
   "metadata": {},
   "outputs": [],
   "source": [
    "nordic_countries = ('Denmark', 'Finland','Iceland', 'Norway', 'Sweden')"
   ]
  },
  {
   "cell_type": "code",
   "execution_count": 29,
   "id": "acfd26b1-5477-494f-bf9c-a0099b15d5c5",
   "metadata": {},
   "outputs": [
    {
     "data": {
      "text/plain": [
       "False"
      ]
     },
     "execution_count": 29,
     "metadata": {},
     "output_type": "execute_result"
    }
   ],
   "source": [
    "'Estonia' in nordic_countries "
   ]
  },
  {
   "cell_type": "code",
   "execution_count": 30,
   "id": "e012b113-5b05-4338-b4a8-0905667b2c1b",
   "metadata": {},
   "outputs": [
    {
     "data": {
      "text/plain": [
       "True"
      ]
     },
     "execution_count": 30,
     "metadata": {},
     "output_type": "execute_result"
    }
   ],
   "source": [
    "'Iceland' in nordic_countries "
   ]
  },
  {
   "cell_type": "markdown",
   "id": "d3177ee0-478d-4950-9e6d-35c8f0a5a8ce",
   "metadata": {},
   "source": [
    "\n",
    "                                  Sets Excercises below ....\n",
    "\n"
   ]
  },
  {
   "cell_type": "code",
   "execution_count": 34,
   "id": "358230f4-b6a6-4826-b94b-3a2145fac4d6",
   "metadata": {},
   "outputs": [],
   "source": [
    "# sets\n",
    "it_companies = {'Facebook', 'Google', 'Microsoft', 'Apple', 'IBM', 'Oracle', 'Amazon'}\n",
    "A = {19, 22, 24, 20, 25, 26}\n",
    "B = {19, 22, 20, 25, 26, 24, 28, 27}\n",
    "age = [22, 19, 24, 25, 26, 24, 25, 24]"
   ]
  },
  {
   "cell_type": "code",
   "execution_count": 35,
   "id": "fbf2c2f0-bb98-4d1e-a412-8de5a102a2c8",
   "metadata": {},
   "outputs": [
    {
     "data": {
      "text/plain": [
       "7"
      ]
     },
     "execution_count": 35,
     "metadata": {},
     "output_type": "execute_result"
    }
   ],
   "source": [
    "len(it_companies)\n"
   ]
  },
  {
   "cell_type": "code",
   "execution_count": 38,
   "id": "9be97f81-2da9-435c-af09-31761319bf90",
   "metadata": {},
   "outputs": [
    {
     "data": {
      "text/plain": [
       "{'Amazon',\n",
       " 'Apple',\n",
       " 'Facebook',\n",
       " 'Google',\n",
       " 'IBM',\n",
       " 'Microsoft',\n",
       " 'Oracle',\n",
       " 'Twitter'}"
      ]
     },
     "execution_count": 38,
     "metadata": {},
     "output_type": "execute_result"
    }
   ],
   "source": [
    "it_companies.add(\"Twitter\")\n",
    "\n",
    "it_companies\n"
   ]
  },
  {
   "cell_type": "code",
   "execution_count": 42,
   "id": "19aa3af1-070b-4c6b-a094-386cccb3e4dd",
   "metadata": {},
   "outputs": [
    {
     "ename": "KeyError",
     "evalue": "'Oracle'",
     "output_type": "error",
     "traceback": [
      "\u001b[1;31m---------------------------------------------------------------------------\u001b[0m",
      "\u001b[1;31mKeyError\u001b[0m                                  Traceback (most recent call last)",
      "Cell \u001b[1;32mIn[42], line 1\u001b[0m\n\u001b[1;32m----> 1\u001b[0m it_companies\u001b[38;5;241m.\u001b[39mremove(\u001b[38;5;124m\"\u001b[39m\u001b[38;5;124mOracle\u001b[39m\u001b[38;5;124m\"\u001b[39m)\n",
      "\u001b[1;31mKeyError\u001b[0m: 'Oracle'"
     ]
    }
   ],
   "source": [
    "it_companies.remove(\"Oracle\")"
   ]
  },
  {
   "cell_type": "code",
   "execution_count": 43,
   "id": "52588691-61a6-439b-a9a7-475fb750372d",
   "metadata": {},
   "outputs": [
    {
     "data": {
      "text/plain": [
       "{'Amazon', 'Apple', 'Facebook', 'Google', 'IBM', 'Microsoft', 'Twitter'}"
      ]
     },
     "execution_count": 43,
     "metadata": {},
     "output_type": "execute_result"
    }
   ],
   "source": [
    "it_companies"
   ]
  },
  {
   "cell_type": "markdown",
   "id": "712b6a78-bc34-425d-b435-9c3e9fa78ff5",
   "metadata": {},
   "source": [
    "Difference Between Remove() and Discard in-built set methods..\n",
    "\n",
    "Remove: this is used to specifically remove an element that is passed as a parameter to a the method. if the items s not fount within the set, this method raise an error message. \n",
    "\n",
    "Disscard : this method is similar to the Remove method except this does not raise an error even if the reqired item is not found within the set. \n"
   ]
  },
  {
   "cell_type": "markdown",
   "id": "340d9ad0-88aa-4bff-8cba-2fccd11c424d",
   "metadata": {},
   "source": [
    "                                    sets exercise Two 2 below...\n",
    "                                    "
   ]
  },
  {
   "cell_type": "code",
   "execution_count": 44,
   "id": "f8415709-4f85-405f-8314-d2003a3ea6fd",
   "metadata": {},
   "outputs": [
    {
     "data": {
      "text/plain": [
       "{19, 20, 22, 24, 25, 26, 27, 28}"
      ]
     },
     "execution_count": 44,
     "metadata": {},
     "output_type": "execute_result"
    }
   ],
   "source": [
    "C = A.union(B)\n",
    "C"
   ]
  },
  {
   "cell_type": "code",
   "execution_count": 46,
   "id": "2eae67a0-45ee-4478-8434-bdcfbfe79f62",
   "metadata": {},
   "outputs": [
    {
     "data": {
      "text/plain": [
       "{19, 20, 22, 24, 25, 26}"
      ]
     },
     "execution_count": 46,
     "metadata": {},
     "output_type": "execute_result"
    }
   ],
   "source": [
    "intersection = A.intersection(B)\n",
    "intersection"
   ]
  },
  {
   "cell_type": "code",
   "execution_count": 49,
   "id": "f8646834-c767-4392-803b-deb4e65aaeb0",
   "metadata": {},
   "outputs": [
    {
     "data": {
      "text/plain": [
       "False"
      ]
     },
     "execution_count": 49,
     "metadata": {},
     "output_type": "execute_result"
    }
   ],
   "source": [
    "A.isdisjoint(B)\n"
   ]
  },
  {
   "cell_type": "code",
   "execution_count": 50,
   "id": "4fea508e-a310-4b8c-8dc5-807507a6490e",
   "metadata": {},
   "outputs": [
    {
     "data": {
      "text/plain": [
       "{19, 20, 22, 24, 25, 26, 27, 28}"
      ]
     },
     "execution_count": 50,
     "metadata": {},
     "output_type": "execute_result"
    }
   ],
   "source": [
    "A.union(B)"
   ]
  },
  {
   "cell_type": "code",
   "execution_count": 51,
   "id": "40f628c0-187f-41db-96df-ab5647fbd4bb",
   "metadata": {},
   "outputs": [
    {
     "data": {
      "text/plain": [
       "{19, 20, 22, 24, 25, 26, 27, 28}"
      ]
     },
     "execution_count": 51,
     "metadata": {},
     "output_type": "execute_result"
    }
   ],
   "source": [
    "B.union(A)"
   ]
  },
  {
   "cell_type": "code",
   "execution_count": 53,
   "id": "ae1289fa-647c-49c8-82fc-4bed83e078fe",
   "metadata": {},
   "outputs": [
    {
     "data": {
      "text/plain": [
       "{27, 28}"
      ]
     },
     "execution_count": 53,
     "metadata": {},
     "output_type": "execute_result"
    }
   ],
   "source": [
    "A.symmetric_difference(B)"
   ]
  },
  {
   "cell_type": "code",
   "execution_count": 54,
   "id": "c32a12e0-d8a5-4c94-b992-0f85b5b588c0",
   "metadata": {},
   "outputs": [],
   "source": [
    "del A,B,it_companies"
   ]
  },
  {
   "cell_type": "markdown",
   "id": "a2b0192a-cead-4812-af3d-a1f4b15727a8",
   "metadata": {},
   "source": [
    "                                    Set Excercise 3 below ..."
   ]
  },
  {
   "cell_type": "code",
   "execution_count": 56,
   "id": "5a008725-3e42-4c97-8dcd-5f06b0f2ba75",
   "metadata": {},
   "outputs": [],
   "source": [
    "\n",
    "st = set(age)\n"
   ]
  },
  {
   "cell_type": "code",
   "execution_count": 59,
   "id": "272e869e-31bb-41b7-a7d8-de121912633f",
   "metadata": {},
   "outputs": [
    {
     "data": {
      "text/plain": [
       "False"
      ]
     },
     "execution_count": 59,
     "metadata": {},
     "output_type": "execute_result"
    }
   ],
   "source": [
    "len(st) == len(age)"
   ]
  },
  {
   "cell_type": "markdown",
   "id": "f92720ca-abc5-4a0f-82fb-c32b156c93c0",
   "metadata": {},
   "source": [
    "String : A string is a sequence of characters enclosed in single quotes (') or double quotes (\")\n",
    "list : This however, contains ordered collection of items of dofferent data types.\n",
    "\n",
    "Turple : A tuple is similar to a list, but it is immutable, which means it cannot be modified after its creation.\n",
    "\n",
    "Set : a set is an unordered container of elements that is mutable. however, duplications is not possible in sets."
   ]
  },
  {
   "cell_type": "code",
   "execution_count": 67,
   "id": "b96237f6-ca00-4b3c-8cd0-79a67609aafe",
   "metadata": {},
   "outputs": [
    {
     "data": {
      "text/plain": [
       "['I',\n",
       " 'am',\n",
       " 'a',\n",
       " 'teacher',\n",
       " 'and',\n",
       " 'I',\n",
       " 'love',\n",
       " 'to',\n",
       " 'inspire',\n",
       " 'and',\n",
       " 'teach',\n",
       " 'people']"
      ]
     },
     "execution_count": 67,
     "metadata": {},
     "output_type": "execute_result"
    }
   ],
   "source": [
    "string = \"I am a teacher and I love to inspire and teach people\"\n",
    "words = string.split(\" \") \n",
    "st = set(words) "
   ]
  },
  {
   "cell_type": "code",
   "execution_count": 71,
   "id": "35fd489d-d444-4cf2-89b2-afe6252e6a86",
   "metadata": {},
   "outputs": [
    {
     "name": "stdout",
     "output_type": "stream",
     "text": [
      "the number of unique words useed is 5\n"
     ]
    }
   ],
   "source": [
    "print(f\"the number of unique words useed is {len(st)}\")"
   ]
  },
  {
   "cell_type": "code",
   "execution_count": null,
   "id": "fa35ee60-9b29-4644-8c6b-fef4ea4fffd1",
   "metadata": {},
   "outputs": [],
   "source": []
  },
  {
   "cell_type": "code",
   "execution_count": null,
   "id": "dc3c44c8-25ec-4455-a780-127d00928e41",
   "metadata": {},
   "outputs": [],
   "source": []
  }
 ],
 "metadata": {
  "kernelspec": {
   "display_name": "Python 3 (ipykernel)",
   "language": "python",
   "name": "python3"
  },
  "language_info": {
   "codemirror_mode": {
    "name": "ipython",
    "version": 3
   },
   "file_extension": ".py",
   "mimetype": "text/x-python",
   "name": "python",
   "nbconvert_exporter": "python",
   "pygments_lexer": "ipython3",
   "version": "3.12.7"
  }
 },
 "nbformat": 4,
 "nbformat_minor": 5
}
