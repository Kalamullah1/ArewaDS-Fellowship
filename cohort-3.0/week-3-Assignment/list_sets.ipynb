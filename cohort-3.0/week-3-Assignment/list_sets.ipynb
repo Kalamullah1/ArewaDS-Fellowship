{
 "cells": [
  {
   "cell_type": "markdown",
   "id": "a72acb1e-56de-4e3e-9671-4475bbec40ae",
   "metadata": {},
   "source": [
    "                                Exercise 5 level 1  "
   ]
  },
  {
   "cell_type": "code",
   "execution_count": null,
   "id": "f61dca46-5561-431c-bca8-be7b1025e7a7",
   "metadata": {},
   "outputs": [],
   "source": [
    "#Declare an empty list\n",
    "lst = []"
   ]
  },
  {
   "cell_type": "code",
   "execution_count": 11,
   "id": "bd480a32-aa7d-4097-847d-f834049621e4",
   "metadata": {},
   "outputs": [
    {
     "data": {
      "text/plain": [
       "7"
      ]
     },
     "execution_count": 11,
     "metadata": {},
     "output_type": "execute_result"
    }
   ],
   "source": [
    "#Declare a list with more than 5 items\n",
    "names = [\"abba\", 2, 3.14, \"umar\", \"isa\", \"khalil\", 5]\n",
    "\n",
    "#Find the length of your list\n",
    "len(names)"
   ]
  },
  {
   "cell_type": "code",
   "execution_count": 4,
   "id": "560f238d-78f1-4f2e-9d68-853baaeb0aed",
   "metadata": {},
   "outputs": [
    {
     "data": {
      "text/plain": [
       "'abba'"
      ]
     },
     "execution_count": 4,
     "metadata": {},
     "output_type": "execute_result"
    }
   ],
   "source": [
    "#firts item \n",
    "names[0]"
   ]
  },
  {
   "cell_type": "code",
   "execution_count": 6,
   "id": "766c930b-872d-46e2-82cd-d2cb030ef7eb",
   "metadata": {},
   "outputs": [
    {
     "data": {
      "text/plain": [
       "'umar'"
      ]
     },
     "execution_count": 6,
     "metadata": {},
     "output_type": "execute_result"
    }
   ],
   "source": [
    "# middle item\n",
    "names[3]"
   ]
  },
  {
   "cell_type": "code",
   "execution_count": 10,
   "id": "63e330b9-86b6-4ed1-a3a5-46ad894943de",
   "metadata": {},
   "outputs": [
    {
     "data": {
      "text/plain": [
       "5"
      ]
     },
     "execution_count": 10,
     "metadata": {},
     "output_type": "execute_result"
    }
   ],
   "source": [
    "#last item\n",
    "names[-1]"
   ]
  },
  {
   "cell_type": "code",
   "execution_count": 12,
   "id": "57d1b244-ccfb-4b0b-9ded-c37d6e47c0b7",
   "metadata": {},
   "outputs": [],
   "source": [
    "#Declare a list called mixed_data_types, put your(name, age, height, marital status, address)\n",
    "mixed_data_types = [\"musa\", 23, 1.75, \"single\", \"Mubi-Adamawa\"]"
   ]
  },
  {
   "cell_type": "code",
   "execution_count": 14,
   "id": "e10e2e3f-0389-418c-ba81-6f9f8184547d",
   "metadata": {},
   "outputs": [
    {
     "name": "stdout",
     "output_type": "stream",
     "text": [
      "['Facebook', 'Google', 'Microsoft', 'Apple', 'IBM', 'Oracle', 'Amazon']\n"
     ]
    }
   ],
   "source": [
    "#Declare a list variable named it_companies and assign initial values Facebook, Google, Microsoft, Apple, IBM, Oracle and Amazon.\n",
    "it_companies = [\"Facebook\", \"Google\", \"Microsoft\", \"Apple\", \"IBM\", \"Oracle\" ,\"Amazon\"]\n",
    "\n",
    "#Print the list using print()\n",
    "print(it_companies)"
   ]
  },
  {
   "cell_type": "code",
   "execution_count": 15,
   "id": "34b84668-de5d-406f-9433-f49bcd6cb245",
   "metadata": {},
   "outputs": [
    {
     "data": {
      "text/plain": [
       "7"
      ]
     },
     "execution_count": 15,
     "metadata": {},
     "output_type": "execute_result"
    }
   ],
   "source": [
    "# the number of companies in the list\n",
    "len(it_companies)"
   ]
  },
  {
   "cell_type": "code",
   "execution_count": 17,
   "id": "8dcd2617-90e8-4cec-8041-ad9d0fa63eb9",
   "metadata": {},
   "outputs": [
    {
     "name": "stdout",
     "output_type": "stream",
     "text": [
      "Facebook\n",
      "Apple\n",
      "Amazon\n"
     ]
    }
   ],
   "source": [
    "#Print the first, middle and last company\n",
    "print(it_companies[0])\n",
    "print(it_companies[3])\n",
    "print(it_companies[-1])\n"
   ]
  },
  {
   "cell_type": "code",
   "execution_count": 20,
   "id": "01ade0a5-f487-4e22-85af-d42b2f7d024a",
   "metadata": {},
   "outputs": [
    {
     "data": {
      "text/plain": [
       "['Facebook', 'Hubuk', 'Microsoft', 'Apple', 'IBM', 'Oracle', 'Amazon']"
      ]
     },
     "execution_count": 20,
     "metadata": {},
     "output_type": "execute_result"
    }
   ],
   "source": [
    "#Print the list after modifying one of the companies\n",
    "it_companies[1] = \"Hubuk\"\n",
    "it_companies"
   ]
  },
  {
   "cell_type": "code",
   "execution_count": null,
   "id": "4c15c1fd-2b96-4cd2-a89a-5eb122a4b6e8",
   "metadata": {},
   "outputs": [],
   "source": [
    "#Add an IT company to it_companies\n",
    "it_companies.append(\"E-health\")"
   ]
  },
  {
   "cell_type": "code",
   "execution_count": 23,
   "id": "4aef7cbc-2820-4768-b1b0-3ed1e2d97955",
   "metadata": {},
   "outputs": [
    {
     "data": {
      "text/plain": [
       "['Facebook', 'Hubuk', 'Microsoft', 'gems', 'Gems', 'IBM', 'Oracle', 'Amazon']"
      ]
     },
     "execution_count": 23,
     "metadata": {},
     "output_type": "execute_result"
    }
   ],
   "source": [
    "#Insert an IT company in the middle of the companies list\n",
    "it_companies.insert(3, \"gems\")\n",
    "it_companies\n"
   ]
  },
  {
   "cell_type": "code",
   "execution_count": 34,
   "id": "5c0108a7-8cc5-40fd-b48e-e25513e09941",
   "metadata": {},
   "outputs": [
    {
     "data": {
      "text/plain": [
       "['Facebook', 'Hubuk', 'Microsoft', 'GEMS', 'Gems', 'IBM', 'Oracle', 'Amazon']"
      ]
     },
     "execution_count": 34,
     "metadata": {},
     "output_type": "execute_result"
    }
   ],
   "source": [
    "#Change one of the it_companies names to uppercase\n",
    "it_companies[3] = it_companies[3].upper()\n",
    "it_companies\n"
   ]
  },
  {
   "cell_type": "code",
   "execution_count": 37,
   "id": "cb1bfb7c-35e8-4bf3-8c47-06ef266b8b85",
   "metadata": {},
   "outputs": [
    {
     "data": {
      "text/plain": [
       "['Facebook',\n",
       " 'Hubuk',\n",
       " 'Microsoft',\n",
       " 'GEMS',\n",
       " 'Gems',\n",
       " 'IBM',\n",
       " 'Oracle',\n",
       " 'Amazon',\n",
       " '#']"
      ]
     },
     "execution_count": 37,
     "metadata": {},
     "output_type": "execute_result"
    }
   ],
   "source": [
    "#Join the it_companies with a string '#;  '\n",
    "lst = [\"#\"]\n",
    "it_companies = it_companies + lst\n",
    "it_companies "
   ]
  },
  {
   "cell_type": "code",
   "execution_count": 39,
   "id": "1080b4c3-4f74-4449-bb2d-33f8297e9296",
   "metadata": {},
   "outputs": [
    {
     "data": {
      "text/plain": [
       "True"
      ]
     },
     "execution_count": 39,
     "metadata": {},
     "output_type": "execute_result"
    }
   ],
   "source": [
    "#Check if a certain company exists in the it_companies list.\n",
    "istrue = 'Hubuk' in it_companies \n",
    "istrue "
   ]
  },
  {
   "cell_type": "code",
   "execution_count": 40,
   "id": "8b8ddedf-1ba8-4e5d-8a28-03b4fa5c3525",
   "metadata": {},
   "outputs": [
    {
     "data": {
      "text/plain": [
       "['#',\n",
       " 'Amazon',\n",
       " 'Facebook',\n",
       " 'GEMS',\n",
       " 'Gems',\n",
       " 'Hubuk',\n",
       " 'IBM',\n",
       " 'Microsoft',\n",
       " 'Oracle']"
      ]
     },
     "execution_count": 40,
     "metadata": {},
     "output_type": "execute_result"
    }
   ],
   "source": [
    "#Sort the list using sort() method\n",
    "it_companies.sort()\n",
    "it_companies"
   ]
  },
  {
   "cell_type": "code",
   "execution_count": 41,
   "id": "e3e1a1ff-013a-4bcf-9a43-54564ade0e00",
   "metadata": {},
   "outputs": [
    {
     "data": {
      "text/plain": [
       "['Oracle',\n",
       " 'Microsoft',\n",
       " 'IBM',\n",
       " 'Hubuk',\n",
       " 'Gems',\n",
       " 'GEMS',\n",
       " 'Facebook',\n",
       " 'Amazon',\n",
       " '#']"
      ]
     },
     "execution_count": 41,
     "metadata": {},
     "output_type": "execute_result"
    }
   ],
   "source": [
    "#Reverse the list in descending order using reverse() method\n",
    "\n",
    "it_companies.reverse()\n",
    "it_companies"
   ]
  },
  {
   "cell_type": "code",
   "execution_count": 44,
   "id": "e9b1dcd4-9520-4a3c-93de-eb462a75f81f",
   "metadata": {},
   "outputs": [
    {
     "data": {
      "text/plain": [
       "['Oracle', 'Microsoft', 'IBM']"
      ]
     },
     "execution_count": 44,
     "metadata": {},
     "output_type": "execute_result"
    }
   ],
   "source": [
    "#Slice out the first 3 companies from the list\n",
    "new_list = it_companies[:3]\n",
    "new_list "
   ]
  },
  {
   "cell_type": "code",
   "execution_count": 46,
   "id": "3f12080e-1405-4c8e-87d4-f2c66d0341b4",
   "metadata": {},
   "outputs": [
    {
     "data": {
      "text/plain": [
       "['GEMS', 'Facebook', 'Amazon']"
      ]
     },
     "execution_count": 46,
     "metadata": {},
     "output_type": "execute_result"
    }
   ],
   "source": [
    "#Slice out the last 3 companies from the list\n",
    "\n",
    "Lst_items = it_companies[-4:-1]\n",
    "Lst_items "
   ]
  },
  {
   "cell_type": "code",
   "execution_count": 48,
   "id": "f5253d3f-2909-45c4-bbe5-2a641a194514",
   "metadata": {},
   "outputs": [
    {
     "data": {
      "text/plain": [
       "['Hubuk', 'Gems', 'GEMS']"
      ]
     },
     "execution_count": 48,
     "metadata": {},
     "output_type": "execute_result"
    }
   ],
   "source": [
    "#Slice out the middle IT company or companies from the list\n",
    "middle = it_companies[3:6]\n",
    "middle "
   ]
  },
  {
   "cell_type": "code",
   "execution_count": 49,
   "id": "332fc7ef-2d8c-4689-b58c-c44bcdca177b",
   "metadata": {},
   "outputs": [
    {
     "data": {
      "text/plain": [
       "['Oracle', 'Microsoft', 'IBM', 'Hubuk', 'Gems', 'GEMS', 'Facebook', 'Amazon']"
      ]
     },
     "execution_count": 49,
     "metadata": {},
     "output_type": "execute_result"
    }
   ],
   "source": [
    "#Remove the first IT company from the list\n",
    "it_companies.remove(\"#\")\n",
    "it_companies"
   ]
  },
  {
   "cell_type": "code",
   "execution_count": 50,
   "id": "aaf85869-31e2-41f0-8dbf-efa45ea00093",
   "metadata": {},
   "outputs": [
    {
     "data": {
      "text/plain": [
       "['Oracle', 'Microsoft', 'IBM', 'Gems', 'GEMS', 'Facebook', 'Amazon']"
      ]
     },
     "execution_count": 50,
     "metadata": {},
     "output_type": "execute_result"
    }
   ],
   "source": [
    "#Remove the middle IT company or companies from the lis\n",
    "it_companies.remove(\"Hubuk\")\n",
    "it_companies "
   ]
  },
  {
   "cell_type": "code",
   "execution_count": 51,
   "id": "280898f6-11eb-499c-abc6-7c26fec80c47",
   "metadata": {},
   "outputs": [
    {
     "data": {
      "text/plain": [
       "['Oracle', 'Microsoft', 'IBM', 'Gems', 'GEMS', 'Facebook']"
      ]
     },
     "execution_count": 51,
     "metadata": {},
     "output_type": "execute_result"
    }
   ],
   "source": [
    "#Remove the last IT company from the list\n",
    "it_companies.pop()\n",
    "it_companies"
   ]
  },
  {
   "cell_type": "code",
   "execution_count": 52,
   "id": "d3837278-bcc1-44bf-8a02-4309012111d6",
   "metadata": {},
   "outputs": [
    {
     "data": {
      "text/plain": [
       "[]"
      ]
     },
     "execution_count": 52,
     "metadata": {},
     "output_type": "execute_result"
    }
   ],
   "source": [
    "#Remove all IT companies from the list\n",
    "it_companies.clear()\n",
    "it_companies"
   ]
  },
  {
   "cell_type": "code",
   "execution_count": 54,
   "id": "12de734c-7664-4757-87da-798dafc42f42",
   "metadata": {},
   "outputs": [
    {
     "ename": "NameError",
     "evalue": "name 'it_companies' is not defined",
     "output_type": "error",
     "traceback": [
      "\u001b[1;31m---------------------------------------------------------------------------\u001b[0m",
      "\u001b[1;31mNameError\u001b[0m                                 Traceback (most recent call last)",
      "Cell \u001b[1;32mIn[54], line 2\u001b[0m\n\u001b[0;32m      1\u001b[0m \u001b[38;5;66;03m#Destroy the IT companies list\u001b[39;00m\n\u001b[1;32m----> 2\u001b[0m \u001b[38;5;28;01mdel\u001b[39;00m it_companies\n\u001b[0;32m      3\u001b[0m it_companies\n",
      "\u001b[1;31mNameError\u001b[0m: name 'it_companies' is not defined"
     ]
    }
   ],
   "source": [
    "#Destroy the IT companies list\n",
    "del it_companies\n",
    "it_companies "
   ]
  },
  {
   "cell_type": "code",
   "execution_count": 56,
   "id": "9aa71047-27da-435e-b728-9e82ae719ab6",
   "metadata": {},
   "outputs": [
    {
     "data": {
      "text/plain": [
       "['HTML', 'CSS', 'JS', 'React', 'Redux', 'Node', 'Express', 'MongoDB']"
      ]
     },
     "execution_count": 56,
     "metadata": {},
     "output_type": "execute_result"
    }
   ],
   "source": [
    "# Join the following lists:\n",
    "front_end = ['HTML', 'CSS', 'JS', 'React', 'Redux']\n",
    "back_end = ['Node','Express', 'MongoDB']\n",
    "\n",
    "full_stack = front_end + back_end\n",
    "full_stack\n",
    "\n"
   ]
  },
  {
   "cell_type": "code",
   "execution_count": 58,
   "id": "3e4c986c-25d3-4402-acf8-f42f9a09adf7",
   "metadata": {},
   "outputs": [
    {
     "data": {
      "text/plain": [
       "['HTML',\n",
       " 'CSS',\n",
       " 'JS',\n",
       " 'React',\n",
       " 'Redux',\n",
       " 'Python',\n",
       " 'SQL',\n",
       " 'Node',\n",
       " 'Express',\n",
       " 'MongoDB']"
      ]
     },
     "execution_count": 58,
     "metadata": {},
     "output_type": "execute_result"
    }
   ],
   "source": [
    "#insert Python and SQL after Redux.\n",
    "full_stack. insert(5, \"Python\")\n",
    "full_stack. insert(6, \"SQL\")\n",
    "full_stack"
   ]
  },
  {
   "cell_type": "code",
   "execution_count": 8,
   "id": "bd193207-a87c-4591-b0e0-015ef142efce",
   "metadata": {},
   "outputs": [
    {
     "name": "stdout",
     "output_type": "stream",
     "text": [
      "the ages after sorting [19, 19, 20, 22, 24, 24, 24, 25, 25, 26]\n",
      "19\n",
      "26\n"
     ]
    }
   ],
   "source": [
    "#Sort the list and find the min and max age\n",
    "ages = [19, 22, 19, 24, 20, 25, 26, 24, 25, 24]\n",
    "ages.sort()\n",
    "print(f\"the ages after sorting {ages}\")\n",
    "print(min(ages))\n",
    "print(max(ages))\n"
   ]
  },
  {
   "cell_type": "code",
   "execution_count": 7,
   "id": "7d742e17-1b8a-41c1-9882-acca42efe90a",
   "metadata": {},
   "outputs": [
    {
     "data": {
      "text/plain": [
       "[19, 19, 20, 22, 24, 24, 24, 25, 25, 26, 19, 26]"
      ]
     },
     "execution_count": 7,
     "metadata": {},
     "output_type": "execute_result"
    }
   ],
   "source": [
    "#Add the min age and the max age again to the list\n",
    "extendable_list = [min(ages), max(ages)]\n",
    "ages.extend(extendable_list)\n",
    "ages"
   ]
  },
  {
   "cell_type": "code",
   "execution_count": 9,
   "id": "a11a5cf3-5e80-4151-9e47-eaf7873c1b4c",
   "metadata": {},
   "outputs": [
    {
     "data": {
      "text/plain": [
       "24.0"
      ]
     },
     "execution_count": 9,
     "metadata": {},
     "output_type": "execute_result"
    }
   ],
   "source": [
    "#Find the median age (one middle item or two middle items divided by two)\n",
    "sum= ages[5] + ages[6]\n",
    "median = sum / 2\n",
    "median "
   ]
  },
  {
   "cell_type": "code",
   "execution_count": 13,
   "id": "8b43b779-cf98-4272-9838-5dc0bffc049c",
   "metadata": {},
   "outputs": [
    {
     "data": {
      "text/plain": [
       "22.8"
      ]
     },
     "execution_count": 13,
     "metadata": {},
     "output_type": "execute_result"
    }
   ],
   "source": [
    "#Find the average age (sum of all items divided by their number )\n",
    "counter = 0\n",
    "sum = 0\n",
    "for age in ages:\n",
    "    sum += age\n",
    "    counter +=1\n",
    "\n",
    "average = sum/counter\n",
    "average\n"
   ]
  },
  {
   "cell_type": "code",
   "execution_count": 51,
   "id": "2f6dbac4-84dd-40e4-abed-dd163f07f1e4",
   "metadata": {},
   "outputs": [
    {
     "data": {
      "text/plain": [
       "7"
      ]
     },
     "execution_count": 51,
     "metadata": {},
     "output_type": "execute_result"
    }
   ],
   "source": [
    "#Find the range of the ages (max minus min)\n",
    "rang = max(ages) - min(ages)\n",
    "rang"
   ]
  },
  {
   "cell_type": "code",
   "execution_count": 16,
   "id": "2462ca32-1c99-4bbf-812c-1c791889986c",
   "metadata": {},
   "outputs": [
    {
     "data": {
      "text/plain": [
       "False"
      ]
     },
     "execution_count": 16,
     "metadata": {},
     "output_type": "execute_result"
    }
   ],
   "source": [
    "#Compare the value of (min - average) and (max - average), use abs() method\n",
    "v1 = min(ages) - average\n",
    "v2 = max(ages) - average\n",
    "comp = abs(v1) == abs(v2)\n",
    "comp"
   ]
  },
  {
   "cell_type": "code",
   "execution_count": 32,
   "id": "93362a6e-6cc4-4885-8d47-570c8d31a9b9",
   "metadata": {},
   "outputs": [
    {
     "name": "stdout",
     "output_type": "stream",
     "text": [
      "Lesotho\n"
     ]
    }
   ],
   "source": [
    "countries = [\n",
    "  'Afghanistan',\n",
    "  'Albania',\n",
    "  'Algeria',\n",
    "  'Andorra',\n",
    "  'Angola',\n",
    "  'Antigua and Barbuda',\n",
    "  'Argentina',\n",
    "  'Armenia',\n",
    "  'Australia',\n",
    "  'Austria',\n",
    "  'Azerbaijan',\n",
    "  'Bahamas',\n",
    "  'Bahrain',\n",
    "  'Bangladesh',\n",
    "  'Barbados',\n",
    "  'Belarus',\n",
    "  'Belgium',\n",
    "  'Belize',\n",
    "  'Benin',\n",
    "  'Bhutan',\n",
    "  'Bolivia',\n",
    "  'Bosnia and Herzegovina',\n",
    "  'Botswana',\n",
    "  'Brazil',\n",
    "  'Brunei',\n",
    "  'Bulgaria',\n",
    "  'Burkina Faso',\n",
    "  'Burundi',\n",
    "  'Cambodia',\n",
    "  'Cameroon',\n",
    "  'Canada',\n",
    "  'Cape Verde',\n",
    "  'Central African Republic',\n",
    "  'Chad',\n",
    "  'Chile',\n",
    "  'China',\n",
    "  'Colombi',\n",
    "  'Comoros',\n",
    "  'Congo (Brazzaville)',\n",
    "  'Congo',\n",
    "  'Costa Rica',\n",
    "  \"Cote d'Ivoire\",\n",
    "  'Croatia',\n",
    "  'Cuba',\n",
    "  'Cyprus',\n",
    "  'Czech Republic',\n",
    "  'Denmark',\n",
    "  'Djibouti',\n",
    "  'Dominica',\n",
    "  'Dominican Republic',\n",
    "  'East Timor (Timor Timur)',\n",
    "  'Ecuador',\n",
    "  'Egypt',\n",
    "  'El Salvador',\n",
    "  'Equatorial Guinea',\n",
    "  'Eritrea',\n",
    "  'Estonia',\n",
    "  'Ethiopia',\n",
    "  'Fiji',\n",
    "  'Finland',\n",
    "  'France',\n",
    "  'Gabon',\n",
    "  'Gambia, The',\n",
    "  'Georgia',\n",
    "  'Germany',\n",
    "  'Ghana',\n",
    "  'Greece',\n",
    "  'Grenada',\n",
    "  'Guatemala',\n",
    "  'Guinea',\n",
    "  'Guinea-Bissau',\n",
    "  'Guyana',\n",
    "  'Haiti',\n",
    "  'Honduras',\n",
    "  'Hungary',\n",
    "  'Iceland',\n",
    "  'India',\n",
    "  'Indonesia',\n",
    "  'Iran',\n",
    "  'Iraq',\n",
    "  'Ireland',\n",
    "  'Israel',\n",
    "  'Italy',\n",
    "  'Jamaica',\n",
    "  'Japan',\n",
    "  'Jordan',\n",
    "  'Kazakhstan',\n",
    "  'Kenya',\n",
    "  'Kiribati',\n",
    "  'Korea, North',\n",
    "  'Korea, South',\n",
    "  'Kuwait',\n",
    "  'Kyrgyzstan',\n",
    "  'Laos',\n",
    "  'Latvia',\n",
    "  'Lebanon',\n",
    "  'Lesotho',\n",
    "  'Liberia',\n",
    "  'Libya',\n",
    "  'Liechtenstein',\n",
    "  'Lithuania',\n",
    "  'Luxembourg',\n",
    "  'Macedonia',\n",
    "  'Madagascar',\n",
    "  'Malawi',\n",
    "  'Malaysia',\n",
    "  'Maldives',\n",
    "  'Mali',\n",
    "  'Malta',\n",
    "  'Marshall Islands',\n",
    "  'Mauritania',\n",
    "  'Mauritius',\n",
    "  'Mexico',\n",
    "  'Micronesia',\n",
    "  'Moldova',\n",
    "  'Monaco',\n",
    "  'Mongolia',\n",
    "  'Morocco',\n",
    "  'Mozambique',\n",
    "  'Myanmar',\n",
    "  'Namibia',\n",
    "  'Nauru',\n",
    "  'Nepal',\n",
    "  'Netherlands',\n",
    "  'New Zealand',\n",
    "  'Nicaragua',\n",
    "  'Niger',\n",
    "  'Nigeria',\n",
    "  'Norway',\n",
    "  'Oman',\n",
    "  'Pakistan',\n",
    "  'Palau',\n",
    "  'Panama',\n",
    "  'Papua New Guinea',\n",
    "  'Paraguay',\n",
    "  'Peru',\n",
    "  'Philippines',\n",
    "  'Poland',\n",
    "  'Portugal',\n",
    "  'Qatar',\n",
    "  'Romania',\n",
    "  'Russia',\n",
    "  'Rwanda',\n",
    "  'Saint Kitts and Nevis',\n",
    "  'Saint Lucia',\n",
    "  'Saint Vincent',\n",
    "  'Samoa',\n",
    "  'San Marino',\n",
    "  'Sao Tome and Principe',\n",
    "  'Saudi Arabia',\n",
    "  'Senegal',\n",
    "  'Serbia and Montenegro',\n",
    "  'Seychelles',\n",
    "  'Sierra Leone',\n",
    "  'Singapore',\n",
    "  'Slovakia',\n",
    "  'Slovenia',\n",
    "  'Solomon Islands',\n",
    "  'Somalia',\n",
    "  'South Africa',\n",
    "  'Spain',\n",
    "  'Sri Lanka',\n",
    "  'Sudan',\n",
    "  'Suriname',\n",
    "  'Swaziland',\n",
    "  'Sweden',\n",
    "  'Switzerland',\n",
    "  'Syria',\n",
    "  'Taiwan',\n",
    "  'Tajikistan',\n",
    "  'Tanzania',\n",
    "  'Thailand',\n",
    "  'Togo',\n",
    "  'Tonga',\n",
    "  'Trinidad and Tobago',\n",
    "  'Tunisia',\n",
    "  'Turkey',\n",
    "  'Turkmenistan',\n",
    "  'Tuvalu',\n",
    "  'Uganda',\n",
    "  'Ukraine',\n",
    "  'United Arab Emirates',\n",
    "  'United Kingdom',\n",
    "  'United States',\n",
    "  'Uruguay',\n",
    "  'Uzbekistan',\n",
    "  'Vanuatu',\n",
    "  'Vatican City',\n",
    "  'Venezuela',\n",
    "  'Vietnam',\n",
    "  'Yemen',\n",
    "  'Zambia',\n",
    "  'Zimbabwe',\n",
    "];\n",
    "counter = 0\n",
    "m_country = None\n",
    "counter = len(countries)\n",
    "if counter %2 == 0:\n",
    "    index = counter // 2 \n",
    "    median = (countries[index] + counter[index +1])//2\n",
    "    m_country = counteries[median]\n",
    "else: \n",
    "    index2 = counter//2\n",
    "    m_country = countries[index2]\n",
    "\n",
    "print(m_country)"
   ]
  },
  {
   "cell_type": "code",
   "execution_count": 36,
   "id": "5dafbb8d-f1f9-4740-9a44-ea7ed1fb1ce5",
   "metadata": {},
   "outputs": [
    {
     "name": "stdout",
     "output_type": "stream",
     "text": [
      "[['Afghanistan', 'Albania', 'Algeria', 'Andorra', 'Angola', 'Antigua and Barbuda', 'Argentina', 'Armenia', 'Australia', 'Austria', 'Azerbaijan', 'Bahamas', 'Bahrain', 'Bangladesh', 'Barbados', 'Belarus', 'Belgium', 'Belize', 'Benin', 'Bhutan', 'Bolivia', 'Bosnia and Herzegovina', 'Botswana', 'Brazil', 'Brunei', 'Bulgaria', 'Burkina Faso', 'Burundi', 'Cambodia', 'Cameroon', 'Canada', 'Cape Verde', 'Central African Republic', 'Chad', 'Chile', 'China', 'Colombi', 'Comoros', 'Congo (Brazzaville)', 'Congo', 'Costa Rica', \"Cote d'Ivoire\", 'Croatia', 'Cuba', 'Cyprus', 'Czech Republic', 'Denmark', 'Djibouti', 'Dominica', 'Dominican Republic', 'East Timor (Timor Timur)', 'Ecuador', 'Egypt', 'El Salvador', 'Equatorial Guinea', 'Eritrea', 'Estonia', 'Ethiopia', 'Fiji', 'Finland', 'France', 'Gabon', 'Gambia, The', 'Georgia', 'Germany', 'Ghana', 'Greece', 'Grenada', 'Guatemala', 'Guinea', 'Guinea-Bissau', 'Guyana', 'Haiti', 'Honduras', 'Hungary', 'Iceland', 'India', 'Indonesia', 'Iran', 'Iraq', 'Ireland', 'Israel', 'Italy', 'Jamaica', 'Japan', 'Jordan', 'Kazakhstan', 'Kenya', 'Kiribati', 'Korea, North', 'Korea, South', 'Kuwait', 'Kyrgyzstan', 'Laos', 'Latvia', 'Lebanon', 'Lesotho']]\n"
     ]
    }
   ],
   "source": [
    "#Divide the countries list into two equal lists if it is even if not one more country for the first half.\n",
    "if counter %2 == 0:\n",
    "    ind = counter // 2 \n",
    "    first_half = [counteries[:ind]]\n",
    "else: \n",
    "    ind2 = counter//2 + 1\n",
    "    first_half = [countries[:ind2]]\n",
    "\n",
    "print(first_half)"
   ]
  },
  {
   "cell_type": "code",
   "execution_count": 52,
   "id": "337125e9-a427-43bb-a667-f8d59d795590",
   "metadata": {},
   "outputs": [
    {
     "data": {
      "text/plain": [
       "['China', 'USA', 'Sweden']"
      ]
     },
     "execution_count": 52,
     "metadata": {},
     "output_type": "execute_result"
    }
   ],
   "source": [
    "# unpacking couteries \n",
    "\n",
    "list_of_c = ['China', 'Russia', 'USA', 'Finland', 'Sweden', 'Norway', 'Denmark']\n",
    "new_list = []\n",
    "for i in range(3):\n",
    "    new_list.append(list_of_c[i])\n",
    "    list_of_c.pop(i)\n",
    "\n",
    "new_list"
   ]
  },
  {
   "cell_type": "markdown",
   "id": "108fb9cd-a79d-4167-a5ce-1f1d4ba3874e",
   "metadata": {},
   "source": [
    "                                       TUPLE Level 2 assignment"
   ]
  },
  {
   "cell_type": "code",
   "execution_count": 1,
   "id": "0ede7f20-e1bc-414f-a323-7f192da70d9d",
   "metadata": {},
   "outputs": [
    {
     "name": "stdout",
     "output_type": "stream",
     "text": [
      "('isa', 'abba', 'saleh', 'khadijah', 'ummi', 'amne')\n"
     ]
    }
   ],
   "source": [
    "tup = ()\n",
    "brothers = (\"isa\", \"abba\", \"saleh\")\n",
    "sisters = (\"khadijah\", \"ummi\", \"amne\")\n",
    "siblings = brothers + sisters \n",
    "\n",
    "print (siblings)"
   ]
  },
  {
   "cell_type": "code",
   "execution_count": null,
   "id": "d5425c38-81b9-42f5-8835-88d7ba1c8a1b",
   "metadata": {},
   "outputs": [],
   "source": []
  },
  {
   "cell_type": "code",
   "execution_count": 3,
   "id": "a199deea-d02e-4cc1-b3f7-3ba277cf4721",
   "metadata": {},
   "outputs": [
    {
     "data": {
      "text/plain": [
       "6"
      ]
     },
     "execution_count": 3,
     "metadata": {},
     "output_type": "execute_result"
    }
   ],
   "source": [
    "len(siblings)\n"
   ]
  },
  {
   "cell_type": "code",
   "execution_count": 4,
   "id": "5a6a2609-765f-44ab-b6d7-3b4f94f2460b",
   "metadata": {},
   "outputs": [
    {
     "name": "stdout",
     "output_type": "stream",
     "text": [
      "('isa', 'abba', 'saleh', 'khadijah', 'ummi', 'amne')\n"
     ]
    }
   ],
   "source": [
    "f_members = siblings[:]\n",
    "print(f_members)"
   ]
  },
  {
   "cell_type": "code",
   "execution_count": 10,
   "id": "fe1c76ff-ba40-4c22-9042-1644af57cdb0",
   "metadata": {},
   "outputs": [
    {
     "data": {
      "text/plain": [
       "('isa', 'abba', 'saleh', 'khadijah', 'ummi', 'amne', 'muhammed', 'hafsah')"
      ]
     },
     "execution_count": 10,
     "metadata": {},
     "output_type": "execute_result"
    }
   ],
   "source": [
    "f_members + (\"muhammed\", \"hafsah\")\n",
    "\n"
   ]
  },
  {
   "cell_type": "markdown",
   "id": "ec994040-a7e1-4e5b-ae88-97e07abc6fb8",
   "metadata": {},
   "source": [
    "Excercise 2"
   ]
  },
  {
   "cell_type": "code",
   "execution_count": 11,
   "id": "9fade8f1-cf24-4736-b1b6-e8178e6ed879",
   "metadata": {},
   "outputs": [],
   "source": [
    "del f_members"
   ]
  },
  {
   "cell_type": "code",
   "execution_count": 14,
   "id": "03e332fc-16ee-4ace-88aa-f76005f0682d",
   "metadata": {},
   "outputs": [],
   "source": [
    "fruits = (\"watermelon\",\"banana\")\n",
    "vegetables = (\"tomato\", \"salad\" )\n",
    "animal_products = (\"chicken\", \"turkey\")\n"
   ]
  },
  {
   "cell_type": "code",
   "execution_count": 17,
   "id": "a2bee513-5aa5-4787-b884-ab5438b1ca78",
   "metadata": {},
   "outputs": [
    {
     "data": {
      "text/plain": [
       "('watermelon', 'banana', 'tomato', 'salad', 'chicken', 'turkey')"
      ]
     },
     "execution_count": 17,
     "metadata": {},
     "output_type": "execute_result"
    }
   ],
   "source": [
    "food_stuffs_tp = fruits + vegetables + animal_products\n",
    "food_stuffs_tp"
   ]
  },
  {
   "cell_type": "code",
   "execution_count": 20,
   "id": "0719b748-1262-4196-a3ee-018bd4b925e2",
   "metadata": {},
   "outputs": [
    {
     "data": {
      "text/plain": [
       "('tomato', 'salad')"
      ]
     },
     "execution_count": 20,
     "metadata": {},
     "output_type": "execute_result"
    }
   ],
   "source": [
    "mid_items = food_stuffs_tp[2:4]\n",
    "mid_items"
   ]
  },
  {
   "cell_type": "code",
   "execution_count": 22,
   "id": "5a9c586d-1c65-439c-b338-f712878778ae",
   "metadata": {},
   "outputs": [
    {
     "data": {
      "text/plain": [
       "('watermelon', 'banana', 'tomato')"
      ]
     },
     "execution_count": 22,
     "metadata": {},
     "output_type": "execute_result"
    }
   ],
   "source": [
    "f_3_items = food_stuffs_tp[:3]\n",
    "f_3_items "
   ]
  },
  {
   "cell_type": "code",
   "execution_count": 23,
   "id": "fa5869ea-5089-4224-bc5e-6dfda1d535b4",
   "metadata": {},
   "outputs": [],
   "source": [
    "del food_stuffs_tp"
   ]
  },
  {
   "cell_type": "code",
   "execution_count": 27,
   "id": "0389b767-8440-41ae-bbe0-2f2f7bade2b3",
   "metadata": {},
   "outputs": [
    {
     "ename": "NameError",
     "evalue": "name 'food_stuffs_tp' is not defined",
     "output_type": "error",
     "traceback": [
      "\u001b[1;31m---------------------------------------------------------------------------\u001b[0m",
      "\u001b[1;31mNameError\u001b[0m                                 Traceback (most recent call last)",
      "Cell \u001b[1;32mIn[27], line 1\u001b[0m\n\u001b[1;32m----> 1\u001b[0m \u001b[38;5;124m\"\u001b[39m\u001b[38;5;124mbanana\u001b[39m\u001b[38;5;124m\"\u001b[39m \u001b[38;5;129;01min\u001b[39;00m food_stuffs_tp\n",
      "\u001b[1;31mNameError\u001b[0m: name 'food_stuffs_tp' is not defined"
     ]
    }
   ],
   "source": [
    "\"banana\" in food_stuffs_tp"
   ]
  },
  {
   "cell_type": "code",
   "execution_count": 28,
   "id": "97e7318a-ad84-4fcd-8ff9-f37a22605286",
   "metadata": {},
   "outputs": [],
   "source": [
    "nordic_countries = ('Denmark', 'Finland','Iceland', 'Norway', 'Sweden')"
   ]
  },
  {
   "cell_type": "code",
   "execution_count": 29,
   "id": "acfd26b1-5477-494f-bf9c-a0099b15d5c5",
   "metadata": {},
   "outputs": [
    {
     "data": {
      "text/plain": [
       "False"
      ]
     },
     "execution_count": 29,
     "metadata": {},
     "output_type": "execute_result"
    }
   ],
   "source": [
    "'Estonia' in nordic_countries "
   ]
  },
  {
   "cell_type": "code",
   "execution_count": 30,
   "id": "e012b113-5b05-4338-b4a8-0905667b2c1b",
   "metadata": {},
   "outputs": [
    {
     "data": {
      "text/plain": [
       "True"
      ]
     },
     "execution_count": 30,
     "metadata": {},
     "output_type": "execute_result"
    }
   ],
   "source": [
    "'Iceland' in nordic_countries "
   ]
  },
  {
   "cell_type": "markdown",
   "id": "d3177ee0-478d-4950-9e6d-35c8f0a5a8ce",
   "metadata": {},
   "source": [
    "\n",
    "                                  Sets Excercises below ....\n",
    "\n"
   ]
  },
  {
   "cell_type": "code",
   "execution_count": 34,
   "id": "358230f4-b6a6-4826-b94b-3a2145fac4d6",
   "metadata": {},
   "outputs": [],
   "source": [
    "# sets\n",
    "it_companies = {'Facebook', 'Google', 'Microsoft', 'Apple', 'IBM', 'Oracle', 'Amazon'}\n",
    "A = {19, 22, 24, 20, 25, 26}\n",
    "B = {19, 22, 20, 25, 26, 24, 28, 27}\n",
    "age = [22, 19, 24, 25, 26, 24, 25, 24]"
   ]
  },
  {
   "cell_type": "code",
   "execution_count": 35,
   "id": "fbf2c2f0-bb98-4d1e-a412-8de5a102a2c8",
   "metadata": {},
   "outputs": [
    {
     "data": {
      "text/plain": [
       "7"
      ]
     },
     "execution_count": 35,
     "metadata": {},
     "output_type": "execute_result"
    }
   ],
   "source": [
    "len(it_companies)\n"
   ]
  },
  {
   "cell_type": "code",
   "execution_count": 38,
   "id": "9be97f81-2da9-435c-af09-31761319bf90",
   "metadata": {},
   "outputs": [
    {
     "data": {
      "text/plain": [
       "{'Amazon',\n",
       " 'Apple',\n",
       " 'Facebook',\n",
       " 'Google',\n",
       " 'IBM',\n",
       " 'Microsoft',\n",
       " 'Oracle',\n",
       " 'Twitter'}"
      ]
     },
     "execution_count": 38,
     "metadata": {},
     "output_type": "execute_result"
    }
   ],
   "source": [
    "it_companies.add(\"Twitter\")\n",
    "\n",
    "it_companies\n"
   ]
  },
  {
   "cell_type": "code",
   "execution_count": 42,
   "id": "19aa3af1-070b-4c6b-a094-386cccb3e4dd",
   "metadata": {},
   "outputs": [
    {
     "ename": "KeyError",
     "evalue": "'Oracle'",
     "output_type": "error",
     "traceback": [
      "\u001b[1;31m---------------------------------------------------------------------------\u001b[0m",
      "\u001b[1;31mKeyError\u001b[0m                                  Traceback (most recent call last)",
      "Cell \u001b[1;32mIn[42], line 1\u001b[0m\n\u001b[1;32m----> 1\u001b[0m it_companies\u001b[38;5;241m.\u001b[39mremove(\u001b[38;5;124m\"\u001b[39m\u001b[38;5;124mOracle\u001b[39m\u001b[38;5;124m\"\u001b[39m)\n",
      "\u001b[1;31mKeyError\u001b[0m: 'Oracle'"
     ]
    }
   ],
   "source": [
    "it_companies.remove(\"Oracle\")"
   ]
  },
  {
   "cell_type": "code",
   "execution_count": 43,
   "id": "52588691-61a6-439b-a9a7-475fb750372d",
   "metadata": {},
   "outputs": [
    {
     "data": {
      "text/plain": [
       "{'Amazon', 'Apple', 'Facebook', 'Google', 'IBM', 'Microsoft', 'Twitter'}"
      ]
     },
     "execution_count": 43,
     "metadata": {},
     "output_type": "execute_result"
    }
   ],
   "source": [
    "it_companies"
   ]
  },
  {
   "cell_type": "markdown",
   "id": "712b6a78-bc34-425d-b435-9c3e9fa78ff5",
   "metadata": {},
   "source": [
    "Difference Between Remove() and Discard in-built set methods..\n",
    "\n",
    "Remove: this is used to specifically remove an element that is passed as a parameter to a the method. if the items s not fount within the set, this method raise an error message. \n",
    "\n",
    "Disscard : this method is similar to the Remove method except this does not raise an error even if the reqired item is not found within the set. \n"
   ]
  },
  {
   "cell_type": "markdown",
   "id": "340d9ad0-88aa-4bff-8cba-2fccd11c424d",
   "metadata": {},
   "source": [
    "                                    sets exercise Two 2 below...\n",
    "                                    "
   ]
  },
  {
   "cell_type": "code",
   "execution_count": 44,
   "id": "f8415709-4f85-405f-8314-d2003a3ea6fd",
   "metadata": {},
   "outputs": [
    {
     "data": {
      "text/plain": [
       "{19, 20, 22, 24, 25, 26, 27, 28}"
      ]
     },
     "execution_count": 44,
     "metadata": {},
     "output_type": "execute_result"
    }
   ],
   "source": [
    "C = A.union(B)\n",
    "C"
   ]
  },
  {
   "cell_type": "code",
   "execution_count": 46,
   "id": "2eae67a0-45ee-4478-8434-bdcfbfe79f62",
   "metadata": {},
   "outputs": [
    {
     "data": {
      "text/plain": [
       "{19, 20, 22, 24, 25, 26}"
      ]
     },
     "execution_count": 46,
     "metadata": {},
     "output_type": "execute_result"
    }
   ],
   "source": [
    "intersection = A.intersection(B)\n",
    "intersection"
   ]
  },
  {
   "cell_type": "code",
   "execution_count": 49,
   "id": "f8646834-c767-4392-803b-deb4e65aaeb0",
   "metadata": {},
   "outputs": [
    {
     "data": {
      "text/plain": [
       "False"
      ]
     },
     "execution_count": 49,
     "metadata": {},
     "output_type": "execute_result"
    }
   ],
   "source": [
    "A.isdisjoint(B)\n"
   ]
  },
  {
   "cell_type": "code",
   "execution_count": 50,
   "id": "4fea508e-a310-4b8c-8dc5-807507a6490e",
   "metadata": {},
   "outputs": [
    {
     "data": {
      "text/plain": [
       "{19, 20, 22, 24, 25, 26, 27, 28}"
      ]
     },
     "execution_count": 50,
     "metadata": {},
     "output_type": "execute_result"
    }
   ],
   "source": [
    "A.union(B)"
   ]
  },
  {
   "cell_type": "code",
   "execution_count": 51,
   "id": "40f628c0-187f-41db-96df-ab5647fbd4bb",
   "metadata": {},
   "outputs": [
    {
     "data": {
      "text/plain": [
       "{19, 20, 22, 24, 25, 26, 27, 28}"
      ]
     },
     "execution_count": 51,
     "metadata": {},
     "output_type": "execute_result"
    }
   ],
   "source": [
    "B.union(A)"
   ]
  },
  {
   "cell_type": "code",
   "execution_count": 53,
   "id": "ae1289fa-647c-49c8-82fc-4bed83e078fe",
   "metadata": {},
   "outputs": [
    {
     "data": {
      "text/plain": [
       "{27, 28}"
      ]
     },
     "execution_count": 53,
     "metadata": {},
     "output_type": "execute_result"
    }
   ],
   "source": [
    "A.symmetric_difference(B)"
   ]
  },
  {
   "cell_type": "code",
   "execution_count": 54,
   "id": "c32a12e0-d8a5-4c94-b992-0f85b5b588c0",
   "metadata": {},
   "outputs": [],
   "source": [
    "del A,B,it_companies"
   ]
  },
  {
   "cell_type": "markdown",
   "id": "a2b0192a-cead-4812-af3d-a1f4b15727a8",
   "metadata": {},
   "source": [
    "                                    Set Excercise 3 below ..."
   ]
  },
  {
   "cell_type": "code",
   "execution_count": 56,
   "id": "5a008725-3e42-4c97-8dcd-5f06b0f2ba75",
   "metadata": {},
   "outputs": [],
   "source": [
    "\n",
    "st = set(age)\n"
   ]
  },
  {
   "cell_type": "code",
   "execution_count": 59,
   "id": "272e869e-31bb-41b7-a7d8-de121912633f",
   "metadata": {},
   "outputs": [
    {
     "data": {
      "text/plain": [
       "False"
      ]
     },
     "execution_count": 59,
     "metadata": {},
     "output_type": "execute_result"
    }
   ],
   "source": [
    "len(st) == len(age)"
   ]
  },
  {
   "cell_type": "markdown",
   "id": "f92720ca-abc5-4a0f-82fb-c32b156c93c0",
   "metadata": {},
   "source": [
    "String : A string is a sequence of characters enclosed in single quotes (') or double quotes (\")\n",
    "list : This however, contains ordered collection of items of dofferent data types.\n",
    "\n",
    "Turple : A tuple is similar to a list, but it is immutable, which means it cannot be modified after its creation.\n",
    "\n",
    "Set : a set is an unordered container of elements that is mutable. however, duplications is not possible in sets."
   ]
  },
  {
   "cell_type": "code",
   "execution_count": 67,
   "id": "b96237f6-ca00-4b3c-8cd0-79a67609aafe",
   "metadata": {},
   "outputs": [
    {
     "data": {
      "text/plain": [
       "['I',\n",
       " 'am',\n",
       " 'a',\n",
       " 'teacher',\n",
       " 'and',\n",
       " 'I',\n",
       " 'love',\n",
       " 'to',\n",
       " 'inspire',\n",
       " 'and',\n",
       " 'teach',\n",
       " 'people']"
      ]
     },
     "execution_count": 67,
     "metadata": {},
     "output_type": "execute_result"
    }
   ],
   "source": [
    "string = \"I am a teacher and I love to inspire and teach people\"\n",
    "words = string.split(\" \") \n",
    "st = set(words) "
   ]
  },
  {
   "cell_type": "code",
   "execution_count": 71,
   "id": "35fd489d-d444-4cf2-89b2-afe6252e6a86",
   "metadata": {},
   "outputs": [
    {
     "name": "stdout",
     "output_type": "stream",
     "text": [
      "the number of unique words useed is 5\n"
     ]
    }
   ],
   "source": [
    "print(f\"the number of unique words useed is {len(st)}\")"
   ]
  },
  {
   "cell_type": "code",
   "execution_count": null,
   "id": "fa35ee60-9b29-4644-8c6b-fef4ea4fffd1",
   "metadata": {},
   "outputs": [],
   "source": []
  },
  {
   "cell_type": "code",
   "execution_count": null,
   "id": "dc3c44c8-25ec-4455-a780-127d00928e41",
   "metadata": {},
   "outputs": [],
   "source": []
  }
 ],
 "metadata": {
  "kernelspec": {
   "display_name": "Python 3 (ipykernel)",
   "language": "python",
   "name": "python3"
  },
  "language_info": {
   "codemirror_mode": {
    "name": "ipython",
    "version": 3
   },
   "file_extension": ".py",
   "mimetype": "text/x-python",
   "name": "python",
   "nbconvert_exporter": "python",
   "pygments_lexer": "ipython3",
   "version": "3.12.7"
  }
 },
 "nbformat": 4,
 "nbformat_minor": 5
}
