{
 "cells": [
  {
   "cell_type": "code",
   "execution_count": 1,
   "id": "a6cce206-892d-4fa3-b917-880e6e2837b4",
   "metadata": {},
   "outputs": [],
   "source": [
    "# Question 1\n",
    "dog = {}\n"
   ]
  },
  {
   "cell_type": "code",
   "execution_count": 4,
   "id": "6d3b7af4-dc21-440d-bf26-92cec6cd4d00",
   "metadata": {},
   "outputs": [
    {
     "data": {
      "text/plain": [
       "{'name': 'jerry', 'color': 'brown', 'legs': 4.5, 'age': 4}"
      ]
     },
     "execution_count": 4,
     "metadata": {},
     "output_type": "execute_result"
    }
   ],
   "source": [
    "# Question 2 \n",
    "dog['name'] = 'jerry'\n",
    "dog['color'] = 'brown'\n",
    "dog['legs'] = 4.5\n",
    "dog['age'] = 4\n",
    "\n",
    "dog"
   ]
  },
  {
   "cell_type": "code",
   "execution_count": 14,
   "id": "c3792557-c205-4e1c-af2a-0f647ebe97fd",
   "metadata": {},
   "outputs": [
    {
     "data": {
      "text/plain": [
       "{'first_name': 'musa',\n",
       " 'last_name': 'muhammed',\n",
       " 'gender': 'male',\n",
       " 'age': 23,\n",
       " 'marital_status': 'single',\n",
       " 'skills': ['python', 'java'],\n",
       " 'country': 'cameroon',\n",
       " 'city': 'Guider',\n",
       " 'address': 'domaye'}"
      ]
     },
     "execution_count": 14,
     "metadata": {},
     "output_type": "execute_result"
    }
   ],
   "source": [
    "# Question 3 \n",
    "student = {'first_name':'musa','last_name':'muhammed','gender':'male','age':23,'marital_status':'single','skills':['python','java'], 'country':'cameroon', 'city':'Guider', 'address':'domaye'}\n",
    "student"
   ]
  },
  {
   "cell_type": "code",
   "execution_count": 11,
   "id": "3c5d4a99-16c8-4e9c-8dc4-55e0f494899b",
   "metadata": {},
   "outputs": [
    {
     "name": "stdout",
     "output_type": "stream",
     "text": [
      "9\n"
     ]
    }
   ],
   "source": [
    "# Question 4 \n",
    "print(len(student))"
   ]
  },
  {
   "cell_type": "code",
   "execution_count": 12,
   "id": "234d99d5-1330-4390-9c52-08042c85ffce",
   "metadata": {},
   "outputs": [
    {
     "data": {
      "text/plain": [
       "'programming'"
      ]
     },
     "execution_count": 12,
     "metadata": {},
     "output_type": "execute_result"
    }
   ],
   "source": [
    "student.get('skills')"
   ]
  },
  {
   "cell_type": "code",
   "execution_count": 15,
   "id": "3f118a87-0c11-4ceb-8e1b-0875379d1070",
   "metadata": {},
   "outputs": [
    {
     "name": "stdout",
     "output_type": "stream",
     "text": [
      "<class 'list'>\n"
     ]
    }
   ],
   "source": [
    "print(type(student['skills']))"
   ]
  },
  {
   "cell_type": "code",
   "execution_count": 19,
   "id": "83601f04-1fc6-4a93-be32-85c6a8924f90",
   "metadata": {},
   "outputs": [],
   "source": [
    "# Question 6 \n",
    "student['skills'].append('PHP')"
   ]
  },
  {
   "cell_type": "code",
   "execution_count": 20,
   "id": "27720072-8869-44f1-b9de-c80f023452f0",
   "metadata": {},
   "outputs": [
    {
     "data": {
      "text/plain": [
       "['python', 'java', 'P', 'h', 'P', 'PHP']"
      ]
     },
     "execution_count": 20,
     "metadata": {},
     "output_type": "execute_result"
    }
   ],
   "source": [
    "student.get('skills')"
   ]
  },
  {
   "cell_type": "code",
   "execution_count": 21,
   "id": "710781a0-da9b-4755-8838-42be833f26b6",
   "metadata": {},
   "outputs": [
    {
     "data": {
      "text/plain": [
       "dict_keys(['first_name', 'last_name', 'gender', 'age', 'marital_status', 'skills', 'country', 'city', 'address'])"
      ]
     },
     "execution_count": 21,
     "metadata": {},
     "output_type": "execute_result"
    }
   ],
   "source": [
    "# Queston 7 \n",
    "student.keys()"
   ]
  },
  {
   "cell_type": "code",
   "execution_count": 23,
   "id": "577f582e-70c1-43ca-a72d-eece10c902f1",
   "metadata": {},
   "outputs": [
    {
     "data": {
      "text/plain": [
       "dict_values(['musa', 'muhammed', 'male', 23, 'single', ['python', 'java', 'P', 'h', 'P', 'PHP'], 'cameroon', 'Guider', 'domaye'])"
      ]
     },
     "execution_count": 23,
     "metadata": {},
     "output_type": "execute_result"
    }
   ],
   "source": [
    "# Question 8 \n",
    "student.values()"
   ]
  },
  {
   "cell_type": "code",
   "execution_count": 24,
   "id": "0a0cbe90-dd5b-4c9a-a6c0-e17208fd7e07",
   "metadata": {},
   "outputs": [
    {
     "name": "stdout",
     "output_type": "stream",
     "text": [
      "dict_items([('first_name', 'musa'), ('last_name', 'muhammed'), ('gender', 'male'), ('age', 23), ('marital_status', 'single'), ('skills', ['python', 'java', 'P', 'h', 'P', 'PHP']), ('country', 'cameroon'), ('city', 'Guider'), ('address', 'domaye')])\n"
     ]
    }
   ],
   "source": [
    "# Queston 9 \n",
    "print(student.items())"
   ]
  },
  {
   "cell_type": "code",
   "execution_count": 25,
   "id": "07517293-0f5b-48fa-9325-a14ecd533423",
   "metadata": {},
   "outputs": [
    {
     "data": {
      "text/plain": [
       "{'first_name': 'musa',\n",
       " 'last_name': 'muhammed',\n",
       " 'gender': 'male',\n",
       " 'age': 23,\n",
       " 'skills': ['python', 'java', 'P', 'h', 'P', 'PHP'],\n",
       " 'country': 'cameroon',\n",
       " 'city': 'Guider',\n",
       " 'address': 'domaye'}"
      ]
     },
     "execution_count": 25,
     "metadata": {},
     "output_type": "execute_result"
    }
   ],
   "source": [
    "# Question 10\n",
    "del student['marital_status']\n",
    "student"
   ]
  },
  {
   "cell_type": "code",
   "execution_count": 26,
   "id": "e3f77579-0c6b-45aa-bab2-c3aba0ec52f1",
   "metadata": {},
   "outputs": [],
   "source": [
    "# Question 11 \n",
    "del dog "
   ]
  },
  {
   "cell_type": "code",
   "execution_count": null,
   "id": "92e9e784-228a-438e-97a4-be62b0df9c92",
   "metadata": {},
   "outputs": [],
   "source": []
  },
  {
   "cell_type": "code",
   "execution_count": null,
   "id": "68410f57-cb2e-4e4a-8672-ad35aa646afa",
   "metadata": {},
   "outputs": [],
   "source": []
  }
 ],
 "metadata": {
  "kernelspec": {
   "display_name": "Python 3 (ipykernel)",
   "language": "python",
   "name": "python3"
  },
  "language_info": {
   "codemirror_mode": {
    "name": "ipython",
    "version": 3
   },
   "file_extension": ".py",
   "mimetype": "text/x-python",
   "name": "python",
   "nbconvert_exporter": "python",
   "pygments_lexer": "ipython3",
   "version": "3.12.7"
  }
 },
 "nbformat": 4,
 "nbformat_minor": 5
}
